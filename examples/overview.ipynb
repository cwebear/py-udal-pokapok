{
 "cells": [
  {
   "cell_type": "markdown",
   "metadata": {},
   "source": [
    "# POKaPOK Uniform Data Access Layer (UDAL)"
   ]
  },
  {
   "cell_type": "code",
   "execution_count": null,
   "metadata": {},
   "outputs": [],
   "source": [
    "from pokapok.udal import UDAL, Config\n",
    "\n",
    "config = Config(cache_dir='./cache')"
   ]
  },
  {
   "cell_type": "markdown",
   "metadata": {},
   "source": [
    "## Argo\n",
    "\n",
    "Supported Argo data sources:\n",
    "\n",
    "- https://data-argo.ifremer.fr\n",
    "- https://usgodae.org/pub/outgoing/argo"
   ]
  },
  {
   "cell_type": "code",
   "execution_count": null,
   "metadata": {},
   "outputs": [],
   "source": [
    "from pokapok.argo.types import FloatType\n",
    "\n",
    "argo = UDAL('https://data-argo.ifremer.fr', config=config)\n",
    "\n",
    "query_args = {\n",
    "    'dac': 'coriolis',\n",
    "    'float_type': [FloatType.CORE, FloatType.BGC],\n",
    "    'float': '6901580',\n",
    "    'descending_cycles': False,\n",
    "}\n",
    "\n",
    "result = argo.execute('urn:pokapok:udal:argo:data', query_args)\n",
    "result.data()"
   ]
  },
  {
   "cell_type": "markdown",
   "metadata": {},
   "source": [
    "## World Ocean Atlas\n",
    "\n",
    "> The World Ocean Atlas (WOA) is a collection of objectively analyzed, quality\n",
    "> controlled temperature, salinity, oxygen, phosphate, silicate, and nitrate\n",
    "> means based on profile data from the World Ocean Database (WOD). It can be\n",
    "> used to create boundary and/or initial conditions for a variety of ocean\n",
    "> models, verify numerical simulations of the ocean, and corroborate satellite\n",
    "> data.\n",
    "\n",
    "Website: https://www.ncei.noaa.gov/products/world-ocean-atlas"
   ]
  },
  {
   "cell_type": "code",
   "execution_count": null,
   "metadata": {},
   "outputs": [],
   "source": [
    "from pokapok.woa23.types import Decade, TimeRes, Variable\n",
    "\n",
    "woa23 = UDAL(config=config)\n",
    "\n",
    "query_args = {\n",
    "    # geospatial extent\n",
    "    'lon_min': 0,\n",
    "    'lon_max': 7,\n",
    "    'lat_min': 49,\n",
    "    'lat_max': 54,\n",
    "    # other parameters\n",
    "    'decade': Decade.DECADE_all,\n",
    "    'grid': 1,\n",
    "    'time_res': TimeRes.Annual,\n",
    "    'variable': Variable.ApparentOxygenUtilization,\n",
    "}\n",
    "\n",
    "result = woa23.execute('urn:pokapok:udal:woa23', query_args)\n",
    "result.data()"
   ]
  }
 ],
 "metadata": {
  "kernelspec": {
   "display_name": "pokapok-udal-hbtkXFKh-py3.12",
   "language": "python",
   "name": "python3"
  },
  "language_info": {
   "codemirror_mode": {
    "name": "ipython",
    "version": 3
   },
   "file_extension": ".py",
   "mimetype": "text/x-python",
   "name": "python",
   "nbconvert_exporter": "python",
   "pygments_lexer": "ipython3",
   "version": "3.12.3"
  }
 },
 "nbformat": 4,
 "nbformat_minor": 2
}
